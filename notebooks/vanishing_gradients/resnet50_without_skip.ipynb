{
 "cells": [
  {
   "cell_type": "markdown",
   "id": "912b60d3",
   "metadata": {},
   "source": [
    "# Gradient Vanishing Analysis in RESNET50 without skip connections\n",
    "\n",
    "### Motivation\n",
    "\n",
    "Moving on from `VGG19` and `VGG38` network we wish to explore more deeper network in `RESNET50` and see how the nuances in this architecture changes gradient behavior.\n",
    "\n",
    "### Approach\n",
    "\n",
    "Before training the RESNET50 in its original form, we slightly modify the architecture by taking the skip connections out.\n",
    "\n",
    "The reason we do this is because we understand that skip connections play a big role in tackling the vanishing gradients issue and also allow us to train deeper network.\n",
    "\n",
    "#### Layers tracked:\n",
    "- `conv1`: Early convolutional layer\n",
    "- `layer1.0.conv1`: Mid-level convolutional layer\n",
    "- `layer2.0.conv2`: Mid-level convolutional layer\n",
    "- `layer3.5.conv3`: Deep convolutional layer\n",
    "- `fc`: First fully connected layer"
   ]
  },
  {
   "cell_type": "markdown",
   "id": "e61e04d7",
   "metadata": {},
   "source": [
    "**Import libraries**"
   ]
  },
  {
   "cell_type": "code",
   "execution_count": 9,
   "id": "84c4bf8e",
   "metadata": {},
   "outputs": [],
   "source": [
    "import torch\n",
    "import torch.nn as nn\n",
    "from torchvision import datasets, transforms\n",
    "from torch.utils.data import DataLoader\n",
    "import matplotlib.pyplot as plt\n",
    "from tqdm import tqdm\n",
    "import numpy as np\n",
    "from collections import defaultdict\n",
    "from scipy.stats import gaussian_kde\n",
    "from matplotlib.animation import FuncAnimation"
   ]
  },
  {
   "cell_type": "markdown",
   "id": "a1f67987",
   "metadata": {},
   "source": [
    "**Load RESNET50 model without skip connections**"
   ]
  },
  {
   "cell_type": "code",
   "execution_count": 2,
   "id": "da6e8660",
   "metadata": {},
   "outputs": [],
   "source": [
    "class Bottleneck(nn.Module):\n",
    "    expansion = 4\n",
    "    def __init__(self, in_planes, planes, stride=1, skip=False):\n",
    "        super(Bottleneck, self).__init__()\n",
    "        self.skip = skip\n",
    "        self.conv1 = nn.Conv2d(in_planes, planes, kernel_size=1, bias=False)\n",
    "        self.conv2 = nn.Conv2d(planes, planes, kernel_size=3, stride=stride, padding=1, bias=False)\n",
    "        self.conv3 = nn.Conv2d(planes, self.expansion * planes, kernel_size=1, bias=False)\n",
    "        self.relu = nn.ReLU(inplace=False)\n",
    "        self.downsample = None\n",
    "        if stride != 1 or in_planes != self.expansion * planes:\n",
    "            self.downsample = nn.Conv2d(in_planes, self.expansion * planes, kernel_size=1, stride=stride, bias=False)\n",
    "\n",
    "    def forward(self, x):\n",
    "        identity = x\n",
    "        out = self.relu(self.conv1(x))\n",
    "        out = self.relu(self.conv2(out))\n",
    "        out = self.conv3(out)\n",
    "        if self.skip:\n",
    "            if self.downsample is not None:\n",
    "                identity = self.downsample(identity)\n",
    "            out = out + identity\n",
    "        return self.relu(out)\n",
    "\n",
    "class CustomResNet50(nn.Module):\n",
    "    def __init__(self, skip=False):\n",
    "        super(CustomResNet50, self).__init__()\n",
    "        self.in_planes = 64\n",
    "        self.conv1 = nn.Conv2d(3, 64, kernel_size=7, stride=2, padding=3, bias=False)\n",
    "        self.maxpool = nn.MaxPool2d(kernel_size=3, stride=2, padding=1)\n",
    "        self.layer1 = self._make_layer(64, 3, skip)\n",
    "        self.layer2 = self._make_layer(128, 4, skip, stride=2)\n",
    "        self.layer3 = self._make_layer(256, 6, skip, stride=2)\n",
    "        self.layer4 = self._make_layer(512, 3, skip, stride=2)\n",
    "        self.avgpool = nn.AdaptiveAvgPool2d((1, 1))\n",
    "        self.fc = nn.Linear(512 * Bottleneck.expansion, 10)\n",
    "\n",
    "    def _make_layer(self, planes, blocks, skip, stride=1):\n",
    "        layers = [Bottleneck(self.in_planes, planes, stride, skip)]\n",
    "        self.in_planes = planes * Bottleneck.expansion\n",
    "        for _ in range(1, blocks):\n",
    "            layers.append(Bottleneck(self.in_planes, planes, skip=skip))\n",
    "        return nn.Sequential(*layers)\n",
    "\n",
    "    def forward(self, x):\n",
    "        x = self.conv1(x)\n",
    "        x = self.maxpool(x)\n",
    "        x = self.layer1(x)\n",
    "        x = self.layer2(x)\n",
    "        x = self.layer3(x)\n",
    "        x = self.layer4(x)\n",
    "        x = self.avgpool(x).view(x.size(0), -1)\n",
    "        x = self.fc(x)\n",
    "        return x\n",
    "\n",
    "model = CustomResNet50(skip=False).cuda()"
   ]
  },
  {
   "cell_type": "markdown",
   "id": "47b3e568",
   "metadata": {},
   "source": [
    "**Verify no. of trainable parameters**"
   ]
  },
  {
   "cell_type": "code",
   "execution_count": 3,
   "id": "7ff8b005",
   "metadata": {},
   "outputs": [
    {
     "name": "stdout",
     "output_type": "stream",
     "text": [
      "Trainable parameters: 23,475,402\n"
     ]
    }
   ],
   "source": [
    "trainable_params = sum(p.numel() for p in model.parameters() if p.requires_grad)\n",
    "print(f\"Trainable parameters: {trainable_params:,}\")"
   ]
  },
  {
   "cell_type": "markdown",
   "id": "53520e98",
   "metadata": {},
   "source": [
    "**Register backward hook to log gradients**"
   ]
  },
  {
   "cell_type": "code",
   "execution_count": 4,
   "id": "651f5682",
   "metadata": {},
   "outputs": [],
   "source": [
    "selected_layers = [\"conv1\", \"layer1.0.conv1\", \"layer2.0.conv2\", \"layer3.5.conv3\", \"fc\"]\n",
    "gradients = {}\n",
    "\n",
    "def register_hooks(model):\n",
    "    for name, module in model.named_modules():\n",
    "        if name in selected_layers and (isinstance(module, nn.Conv2d) or isinstance(module, nn.Linear)):\n",
    "            gradients[name] = []\n",
    "            def hook(module, grad_input, grad_output, name=name):\n",
    "                gradients[name].append(grad_output[0].norm().item())\n",
    "            module.register_full_backward_hook(hook)\n",
    "\n",
    "register_hooks(model)"
   ]
  },
  {
   "cell_type": "code",
   "execution_count": 5,
   "id": "0eec61f0",
   "metadata": {},
   "outputs": [],
   "source": [
    "transform = transforms.Compose([\n",
    "    transforms.Resize((224, 224)),\n",
    "    transforms.ToTensor()\n",
    "])\n",
    "train_data = datasets.CIFAR10(root='../data', train=True, download=True, transform=transform)\n",
    "train_loader = DataLoader(train_data, batch_size=16, shuffle=True)\n",
    "\n",
    "epoch_gradients = defaultdict(list)"
   ]
  },
  {
   "cell_type": "markdown",
   "id": "230f4129",
   "metadata": {},
   "source": [
    "**Define loss and optimizer**"
   ]
  },
  {
   "cell_type": "code",
   "execution_count": 6,
   "id": "3b54c52b",
   "metadata": {},
   "outputs": [],
   "source": [
    "criterion = nn.CrossEntropyLoss()\n",
    "optimizer = torch.optim.Adam(model.parameters(), lr=0.001)"
   ]
  },
  {
   "cell_type": "markdown",
   "id": "ad957c82",
   "metadata": {},
   "source": [
    "**Train the model**"
   ]
  },
  {
   "cell_type": "code",
   "execution_count": 7,
   "id": "c6471939",
   "metadata": {},
   "outputs": [],
   "source": [
    "def train(model, epochs=1):\n",
    "    model.train()\n",
    "    for epoch in tqdm(range(epochs)):\n",
    "        # Temporary storage for one epoch\n",
    "        batch_grads = defaultdict(list)\n",
    "\n",
    "        for inputs, labels in train_loader:\n",
    "            inputs, labels = inputs.cuda(), labels.cuda()\n",
    "            optimizer.zero_grad()\n",
    "            outputs = model(inputs)\n",
    "            loss = criterion(outputs, labels)\n",
    "            loss.backward()\n",
    "            optimizer.step()\n",
    "        \n",
    "            # After backward, batch-level gradients are in global `gradients`\n",
    "            for layer in selected_layers:\n",
    "                if gradients[layer]:\n",
    "                    batch_grads[layer].extend(gradients[layer])\n",
    "                    gradients[layer].clear()  # Clear for next batch\n",
    "\n",
    "        # Sample 20 values (or pad with zeros if less) for this epoch\n",
    "        for layer in selected_layers:\n",
    "            layer_grads = batch_grads[layer]\n",
    "            if len(layer_grads) >= 20:\n",
    "                sampled = np.random.choice(layer_grads, 20, replace=False)\n",
    "            else:\n",
    "                sampled = np.pad(layer_grads, (0, 20 - len(layer_grads)), constant_values=0)\n",
    "            epoch_gradients[layer].append(sampled.tolist())\n",
    "\n",
    "        print(f\"Epoch {epoch+1} complete\")\n"
   ]
  },
  {
   "cell_type": "code",
   "execution_count": 8,
   "id": "9d0bdbca",
   "metadata": {},
   "outputs": [
    {
     "name": "stderr",
     "output_type": "stream",
     "text": [
      " 10%|█         | 1/10 [00:58<08:47, 58.63s/it]"
     ]
    },
    {
     "name": "stdout",
     "output_type": "stream",
     "text": [
      "Epoch 1 complete\n"
     ]
    },
    {
     "name": "stderr",
     "output_type": "stream",
     "text": [
      " 20%|██        | 2/10 [01:56<07:47, 58.48s/it]"
     ]
    },
    {
     "name": "stdout",
     "output_type": "stream",
     "text": [
      "Epoch 2 complete\n"
     ]
    },
    {
     "name": "stderr",
     "output_type": "stream",
     "text": [
      " 30%|███       | 3/10 [02:55<06:50, 58.61s/it]"
     ]
    },
    {
     "name": "stdout",
     "output_type": "stream",
     "text": [
      "Epoch 3 complete\n"
     ]
    },
    {
     "name": "stderr",
     "output_type": "stream",
     "text": [
      " 40%|████      | 4/10 [03:54<05:51, 58.58s/it]"
     ]
    },
    {
     "name": "stdout",
     "output_type": "stream",
     "text": [
      "Epoch 4 complete\n"
     ]
    },
    {
     "name": "stderr",
     "output_type": "stream",
     "text": [
      " 50%|█████     | 5/10 [04:52<04:52, 58.51s/it]"
     ]
    },
    {
     "name": "stdout",
     "output_type": "stream",
     "text": [
      "Epoch 5 complete\n"
     ]
    },
    {
     "name": "stderr",
     "output_type": "stream",
     "text": [
      " 60%|██████    | 6/10 [05:50<03:53, 58.43s/it]"
     ]
    },
    {
     "name": "stdout",
     "output_type": "stream",
     "text": [
      "Epoch 6 complete\n"
     ]
    },
    {
     "name": "stderr",
     "output_type": "stream",
     "text": [
      " 70%|███████   | 7/10 [06:49<02:55, 58.40s/it]"
     ]
    },
    {
     "name": "stdout",
     "output_type": "stream",
     "text": [
      "Epoch 7 complete\n"
     ]
    },
    {
     "name": "stderr",
     "output_type": "stream",
     "text": [
      " 80%|████████  | 8/10 [07:47<01:56, 58.37s/it]"
     ]
    },
    {
     "name": "stdout",
     "output_type": "stream",
     "text": [
      "Epoch 8 complete\n"
     ]
    },
    {
     "name": "stderr",
     "output_type": "stream",
     "text": [
      " 90%|█████████ | 9/10 [08:46<00:58, 58.65s/it]"
     ]
    },
    {
     "name": "stdout",
     "output_type": "stream",
     "text": [
      "Epoch 9 complete\n"
     ]
    },
    {
     "name": "stderr",
     "output_type": "stream",
     "text": [
      "100%|██████████| 10/10 [09:45<00:00, 58.55s/it]"
     ]
    },
    {
     "name": "stdout",
     "output_type": "stream",
     "text": [
      "Epoch 10 complete\n"
     ]
    },
    {
     "name": "stderr",
     "output_type": "stream",
     "text": [
      "\n"
     ]
    }
   ],
   "source": [
    "train(model, epochs=10)"
   ]
  },
  {
   "cell_type": "code",
   "execution_count": 11,
   "id": "4ca972ae",
   "metadata": {},
   "outputs": [],
   "source": [
    "\n",
    "layers = ['conv1', 'layer1.0.conv1', 'layer2.0.conv2', 'layer3.5.conv3', 'fc']"
   ]
  },
  {
   "cell_type": "code",
   "execution_count": 12,
   "id": "4fb33e4a",
   "metadata": {},
   "outputs": [],
   "source": [
    "def create_log_hist_animation_matplotlib(epoch_gradients, layers, num_epochs=10, save_path='log_hist_gradients.gif'):\n",
    "    fig, ax = plt.subplots(figsize=(8, 6))\n",
    "\n",
    "    # Log-spaced bins from 1e-10 to 1e0 (1)\n",
    "    log_bins = np.logspace(-10, 0, 50)\n",
    "\n",
    "    def update(epoch):\n",
    "        ax.clear()\n",
    "        for layer in layers:\n",
    "            data = epoch_gradients[layer][epoch]\n",
    "            if len(data) > 1 and np.isfinite(data).all():\n",
    "                log_data = np.abs(data) + 1e-10  # Avoid log(0)\n",
    "                hist, bins = np.histogram(log_data, bins=log_bins, density=True)\n",
    "                bin_centers = (bins[:-1] + bins[1:]) / 2\n",
    "                ax.plot(bin_centers, hist, label=layer)\n",
    "\n",
    "        ax.set_xscale('log')\n",
    "        ax.set_xlim(1e-10, 1)\n",
    "        ax.set_ylim(0, None)\n",
    "        ax.set_title(f\"Log-Scaled Gradient Histogram - Epoch {epoch + 1}\")\n",
    "        ax.set_xlabel(\"Gradient Magnitude (log scale)\")\n",
    "        ax.set_ylabel(\"Density\")\n",
    "        ax.legend()\n",
    "        ax.grid(True, which=\"both\", ls=\"--\", linewidth=0.5)\n",
    "\n",
    "    ani = FuncAnimation(fig, update, frames=num_epochs, repeat=False)\n",
    "    ani.save(save_path, writer='pillow', fps=1)\n",
    "    print(f\"Saved animation to {save_path}\")\n"
   ]
  },
  {
   "cell_type": "code",
   "execution_count": 13,
   "id": "1b6b37f5",
   "metadata": {},
   "outputs": [
    {
     "name": "stdout",
     "output_type": "stream",
     "text": [
      "Saved animation to log_hist_gradients_without_skip.gif\n"
     ]
    },
    {
     "data": {
      "image/png": "[encoded data removed]",
      "text/plain": [
       "<Figure size 800x600 with 1 Axes>"
      ]
     },
     "metadata": {},
     "output_type": "display_data"
    }
   ],
   "source": [
    "# Step 3: Run it\n",
    "create_log_hist_animation_matplotlib(epoch_gradients, layers, num_epochs=10, save_path='log_hist_gradients_without_skip.gif')"
   ]
  },
  {
   "cell_type": "markdown",
   "id": "1014c729",
   "metadata": {},
   "source": [
    "**Observations**\n",
    "\n",
    "- The graph shows how the distribution of gradient magnitudes (on a log scale) evolves across epochs for each layer.\n",
    "- As we can see the for each of the considered layers, the gradient magnitude is close to 1e-10, which is very low and cannot contribute any further to weight updation.\n",
    "- This does prove that the skip connections do play a vital role in how the gradient changes during training, and `vanishing gradients` behavior is clearly visible.\n",
    "- Lets put the skip connection back and train the model again to observe the gradient behavior."
   ]
  }
 ],
 "metadata": {
  "kernelspec": {
   "display_name": ".venv",
   "language": "python",
   "name": "python3"
  },
  "language_info": {
   "codemirror_mode": {
    "name": "ipython",
    "version": 3
   },
   "file_extension": ".py",
   "mimetype": "text/x-python",
   "name": "python",
   "nbconvert_exporter": "python",
   "pygments_lexer": "ipython3",
   "version": "3.12.3"
  }
 },
 "nbformat": 4,
 "nbformat_minor": 5
}
