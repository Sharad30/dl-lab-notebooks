{
 "cells": [
  {
   "cell_type": "markdown",
   "id": "ec79748b",
   "metadata": {},
   "source": [
    "# Gradient Vanishing Analysis in VGG19\n",
    "\n",
    "### Motivation\n",
    "\n",
    "Neural networks tend to learn very complex patterns in the data and we can leverage this by having networks with very deep layers. But having this power is like a double edged sword, where just stacking layers on top of each other is not going to ensure greater accuracy and we might stumble upon a problem called as `Vanishing Gradients`.\n",
    "\n",
    "`Vanishing Gradients` problem takes away the power to learn from the data, after a point in time. In short the gradients which play a key role during backpropogation, they start to vanish (very close to 0), due to which weight optimization does not happen.\n",
    "\n",
    "So in this notebook we wish to demonstrate this practically with CNNs and we first start with VGG19 network and understand how the gradients vary across different layers.\n",
    "\n",
    "### Approach\n",
    "\n",
    "Here we track and compares **average gradient norms per epoch** across multiple layers in VGG19 to observe potential vanishing gradients.\n",
    "\n",
    "The intuition to choose these different layers across all the 19 layers in VGG is that, we want to have a broad sense of how gradients vary in each section of network i.e when the network just starts to learn in first few layers, when network is slightly deep enough to learn some features, when the network is very deep enough to capture nuanced features and the final layers which are used to generate classification probabilities.\n",
    "\n",
    "This is will give us a better understanding how gradients behave in each of these sections.\n",
    "\n",
    "#### Layers tracked:\n",
    "- `features[0]`: Early convolutional layer\n",
    "- `features[10]`: Mid-level convolutional layer\n",
    "- `features[28]`: Deep convolutional layer\n",
    "- `classifier[0]`: First fully connected layer"
   ]
  },
  {
   "cell_type": "markdown",
   "id": "08e25791",
   "metadata": {},
   "source": [
    "**Import libraries**"
   ]
  },
  {
   "cell_type": "code",
   "execution_count": 1,
   "id": "ccfa432d",
   "metadata": {},
   "outputs": [],
   "source": [
    "import torch\n",
    "import torch.nn as nn\n",
    "import torchvision.models as models\n",
    "import torchvision.transforms as transforms\n",
    "import torchvision.datasets as datasets\n",
    "from torch.utils.data import DataLoader\n",
    "import matplotlib.pyplot as plt\n",
    "import numpy as np\n",
    "import os\n",
    "from tqdm import tqdm\n",
    "from scipy.stats import gaussian_kde\n",
    "from matplotlib.animation import FuncAnimation\n",
    "\n",
    "\n",
    "device = torch.device('cuda' if torch.cuda.is_available() else 'cpu')"
   ]
  },
  {
   "cell_type": "markdown",
   "id": "0fdd4a62",
   "metadata": {},
   "source": [
    "**Load VGG19 pretrained model**"
   ]
  },
  {
   "cell_type": "code",
   "execution_count": 2,
   "id": "bdc3d6b4",
   "metadata": {},
   "outputs": [
    {
     "name": "stderr",
     "output_type": "stream",
     "text": [
      "/workspace/projects/dl-lab-notebooks/.venv/lib/python3.12/site-packages/torchvision/models/_utils.py:208: UserWarning: The parameter 'pretrained' is deprecated since 0.13 and may be removed in the future, please use 'weights' instead.\n",
      "  warnings.warn(\n",
      "/workspace/projects/dl-lab-notebooks/.venv/lib/python3.12/site-packages/torchvision/models/_utils.py:223: UserWarning: Arguments other than a weight enum or `None` for 'weights' are deprecated since 0.13 and may be removed in the future. The current behavior is equivalent to passing `weights=VGG19_Weights.IMAGENET1K_V1`. You can also use `weights=VGG19_Weights.DEFAULT` to get the most up-to-date weights.\n",
      "  warnings.warn(msg)\n"
     ]
    }
   ],
   "source": [
    "# Load pretrained VGG19 and modify classifier\n",
    "vgg19 = models.vgg19(pretrained=True)\n",
    "vgg19.classifier[6] = nn.Linear(4096, 10)\n",
    "\n",
    "for module in vgg19.modules():\n",
    "    if isinstance(module, nn.ReLU):\n",
    "        module.inplace = False\n",
    "        \n",
    "vgg19 = vgg19.to(device)"
   ]
  },
  {
   "cell_type": "code",
   "execution_count": 3,
   "id": "843939b7",
   "metadata": {},
   "outputs": [],
   "source": [
    "class DoubleConvVGG19(nn.Module):\n",
    "    def __init__(self, num_classes=1000):\n",
    "        super(DoubleConvVGG19, self).__init__()\n",
    "        \n",
    "        original_vgg = models.vgg19(pretrained=True)\n",
    "        original_layers = list(original_vgg.features)\n",
    "\n",
    "        new_features = []\n",
    "        for layer in original_layers:\n",
    "            if isinstance(layer, nn.Conv2d):\n",
    "                # Original conv + relu\n",
    "                new_features.append(layer)\n",
    "                new_features.append(nn.ReLU(inplace=True))\n",
    "                \n",
    "                # Duplicated conv + relu (same output channels as original)\n",
    "                dup_conv = nn.Conv2d(\n",
    "                    in_channels=layer.out_channels,\n",
    "                    out_channels=layer.out_channels,\n",
    "                    kernel_size=layer.kernel_size,\n",
    "                    stride=layer.stride,\n",
    "                    padding=layer.padding,\n",
    "                    bias=(layer.bias is not None)\n",
    "                )\n",
    "                nn.init.kaiming_normal_(dup_conv.weight, mode='fan_out', nonlinearity='relu')\n",
    "                new_features.append(dup_conv)\n",
    "                new_features.append(nn.ReLU(inplace=True))\n",
    "\n",
    "            elif isinstance(layer, nn.ReLU):\n",
    "                # Already added relu after conv, skip\n",
    "                continue\n",
    "            else:\n",
    "                # e.g., MaxPool or other layers\n",
    "                new_features.append(layer)\n",
    "\n",
    "        self.features = nn.Sequential(*new_features)\n",
    "        self.avgpool = original_vgg.avgpool\n",
    "\n",
    "        # Custom classifier (optional)\n",
    "        self.classifier = nn.Sequential(\n",
    "            nn.Linear(512 * 7 * 7, 4096),\n",
    "            nn.ReLU(True),\n",
    "            nn.Dropout(),\n",
    "            nn.Linear(4096, 4096),\n",
    "            nn.ReLU(True),\n",
    "            nn.Dropout(),\n",
    "            nn.Linear(4096, num_classes),\n",
    "        )\n",
    "\n",
    "    def forward(self, x):\n",
    "        x = self.features(x)\n",
    "        x = self.avgpool(x)\n",
    "        x = torch.flatten(x, 1)\n",
    "        x = self.classifier(x)\n",
    "        return x"
   ]
  },
  {
   "cell_type": "code",
   "execution_count": 4,
   "id": "95a420f6",
   "metadata": {},
   "outputs": [],
   "source": [
    "vgg38 = DoubleConvVGG19(num_classes=10)\n",
    "\n",
    "for module in vgg38.modules():\n",
    "    if isinstance(module, nn.ReLU):\n",
    "        module.inplace = False\n",
    "        \n",
    "vgg38 = vgg38.to(device)"
   ]
  },
  {
   "cell_type": "markdown",
   "id": "6fe541a9",
   "metadata": {},
   "source": [
    "**Verify no. of parameters to be trained**"
   ]
  },
  {
   "cell_type": "code",
   "execution_count": 5,
   "id": "1f1d82aa",
   "metadata": {},
   "outputs": [
    {
     "name": "stdout",
     "output_type": "stream",
     "text": [
      "Trainable parameters: 161,219,018\n"
     ]
    }
   ],
   "source": [
    "trainable_params = sum(p.numel() for p in vgg38.parameters() if p.requires_grad)\n",
    "print(f\"Trainable parameters: {trainable_params:,}\")"
   ]
  },
  {
   "cell_type": "markdown",
   "id": "75befe7f",
   "metadata": {},
   "source": [
    "**Register backward hook to log gradients**"
   ]
  },
  {
   "cell_type": "code",
   "execution_count": 6,
   "id": "8671dff9",
   "metadata": {},
   "outputs": [],
   "source": [
    "# Gradient storage\n",
    "epoch_gradients = {\n",
    "    'conv1': [], 'conv_mid': [], 'conv_deep': [], 'fc1': []\n",
    "}\n",
    "batch_grads = {'conv1': [], 'conv_mid': [], 'conv_deep': [], 'fc1': []}\n",
    "\n",
    "# Hook function\n",
    "def register_hook(module, name):\n",
    "    def hook(module, grad_input, grad_output):\n",
    "        if grad_output[0] is not None:\n",
    "            batch_grads[name].append(grad_output[0].norm().item())\n",
    "    module.register_full_backward_hook(hook)\n",
    "\n",
    "# Register hooks\n",
    "register_hook(vgg38.features[0], 'conv1')\n",
    "register_hook(vgg38.features[20], 'conv_mid')\n",
    "register_hook(vgg38.features[-4], 'conv_deep')\n",
    "register_hook(vgg38.classifier[0], 'fc1')"
   ]
  },
  {
   "cell_type": "markdown",
   "id": "1a555975",
   "metadata": {},
   "source": [
    "**Load CIFAR10 data and apply trasnformations**"
   ]
  },
  {
   "cell_type": "code",
   "execution_count": 7,
   "id": "7a0c7572",
   "metadata": {},
   "outputs": [],
   "source": [
    "# CIFAR-10 loading\n",
    "transform = transforms.Compose([\n",
    "    transforms.Resize((224, 224)),\n",
    "    transforms.ToTensor()\n",
    "])\n",
    "train_dataset = datasets.CIFAR10(root='../data', train=True, transform=transform, download=True)\n",
    "train_loader = DataLoader(train_dataset, batch_size=32, shuffle=True)"
   ]
  },
  {
   "cell_type": "markdown",
   "id": "6c6697be",
   "metadata": {},
   "source": [
    "**Define loss and optimizer**"
   ]
  },
  {
   "cell_type": "code",
   "execution_count": 8,
   "id": "80f1f713",
   "metadata": {},
   "outputs": [],
   "source": [
    "# Loss and optimizer\n",
    "criterion = nn.CrossEntropyLoss()\n",
    "optimizer = torch.optim.Adam(vgg38.parameters(), lr=1e-4)"
   ]
  },
  {
   "cell_type": "markdown",
   "id": "f9a4b366",
   "metadata": {},
   "source": [
    "**Train the model and randomly log 20 gradients for each epoch per layer**"
   ]
  },
  {
   "cell_type": "code",
   "execution_count": 9,
   "id": "b12d8346",
   "metadata": {},
   "outputs": [
    {
     "name": "stderr",
     "output_type": "stream",
     "text": [
      " 10%|█         | 1/10 [06:23<57:33, 383.71s/it]"
     ]
    },
    {
     "name": "stdout",
     "output_type": "stream",
     "text": [
      "Epoch 1 complete\n"
     ]
    },
    {
     "name": "stderr",
     "output_type": "stream",
     "text": [
      " 20%|██        | 2/10 [13:00<52:12, 391.58s/it]"
     ]
    },
    {
     "name": "stdout",
     "output_type": "stream",
     "text": [
      "Epoch 2 complete\n"
     ]
    },
    {
     "name": "stderr",
     "output_type": "stream",
     "text": [
      " 30%|███       | 3/10 [19:37<45:58, 394.05s/it]"
     ]
    },
    {
     "name": "stdout",
     "output_type": "stream",
     "text": [
      "Epoch 3 complete\n"
     ]
    },
    {
     "name": "stderr",
     "output_type": "stream",
     "text": [
      " 40%|████      | 4/10 [26:14<39:30, 395.15s/it]"
     ]
    },
    {
     "name": "stdout",
     "output_type": "stream",
     "text": [
      "Epoch 4 complete\n"
     ]
    },
    {
     "name": "stderr",
     "output_type": "stream",
     "text": [
      " 50%|█████     | 5/10 [32:51<32:58, 395.73s/it]"
     ]
    },
    {
     "name": "stdout",
     "output_type": "stream",
     "text": [
      "Epoch 5 complete\n"
     ]
    },
    {
     "name": "stderr",
     "output_type": "stream",
     "text": [
      " 60%|██████    | 6/10 [39:28<26:24, 396.11s/it]"
     ]
    },
    {
     "name": "stdout",
     "output_type": "stream",
     "text": [
      "Epoch 6 complete\n"
     ]
    },
    {
     "name": "stderr",
     "output_type": "stream",
     "text": [
      " 70%|███████   | 7/10 [46:05<19:49, 396.36s/it]"
     ]
    },
    {
     "name": "stdout",
     "output_type": "stream",
     "text": [
      "Epoch 7 complete\n"
     ]
    },
    {
     "name": "stderr",
     "output_type": "stream",
     "text": [
      " 80%|████████  | 8/10 [52:41<13:12, 396.47s/it]"
     ]
    },
    {
     "name": "stdout",
     "output_type": "stream",
     "text": [
      "Epoch 8 complete\n"
     ]
    },
    {
     "name": "stderr",
     "output_type": "stream",
     "text": [
      " 90%|█████████ | 9/10 [59:18<06:36, 396.57s/it]"
     ]
    },
    {
     "name": "stdout",
     "output_type": "stream",
     "text": [
      "Epoch 9 complete\n"
     ]
    },
    {
     "name": "stderr",
     "output_type": "stream",
     "text": [
      "100%|██████████| 10/10 [1:05:55<00:00, 395.56s/it]"
     ]
    },
    {
     "name": "stdout",
     "output_type": "stream",
     "text": [
      "Epoch 10 complete\n"
     ]
    },
    {
     "name": "stderr",
     "output_type": "stream",
     "text": [
      "\n"
     ]
    }
   ],
   "source": [
    "# Train for 10 epochs and log average gradient norms\n",
    "for epoch in tqdm(range(10)):\n",
    "    for images, labels in train_loader:\n",
    "        images, labels = images.to(device), labels.to(device)\n",
    "        optimizer.zero_grad()\n",
    "        outputs = vgg38(images)\n",
    "        loss = criterion(outputs, labels)\n",
    "        loss.backward()\n",
    "        optimizer.step()\n",
    "    \n",
    "    # For each layer, sample 20 values from collected gradients\n",
    "    for layer in batch_grads:\n",
    "        grads = batch_grads[layer]\n",
    "        if len(grads) >= 20:\n",
    "            sampled = np.random.choice(grads, 20, replace=False)\n",
    "        else:\n",
    "            sampled = np.pad(grads, (0, 20 - len(grads)), constant_values=0)\n",
    "        epoch_gradients[layer].append(sampled)\n",
    "        batch_grads[layer].clear()\n",
    "\n",
    "    print(f\"Epoch {epoch+1} complete\")"
   ]
  },
  {
   "cell_type": "code",
   "execution_count": 10,
   "id": "e8ca0cb4",
   "metadata": {},
   "outputs": [],
   "source": [
    "\n",
    "layers = ['conv1', 'conv_mid', 'conv_deep', 'fc1']"
   ]
  },
  {
   "cell_type": "code",
   "execution_count": 11,
   "id": "c26af520",
   "metadata": {},
   "outputs": [],
   "source": [
    "def create_log_hist_animation_matplotlib(epoch_gradients, layers, num_epochs=10, save_path='log_hist_gradients.gif'):\n",
    "    fig, ax = plt.subplots(figsize=(8, 6))\n",
    "\n",
    "    # Log-spaced bins from 1e-10 to 1e0 (1)\n",
    "    log_bins = np.logspace(-10, 0, 50)\n",
    "\n",
    "    def update(epoch):\n",
    "        ax.clear()\n",
    "        for layer in layers:\n",
    "            data = epoch_gradients[layer][epoch]\n",
    "            if len(data) > 1 and np.isfinite(data).all():\n",
    "                log_data = np.abs(data) + 1e-10  # Avoid log(0)\n",
    "                hist, bins = np.histogram(log_data, bins=log_bins, density=True)\n",
    "                bin_centers = (bins[:-1] + bins[1:]) / 2\n",
    "                ax.plot(bin_centers, hist, label=layer)\n",
    "\n",
    "        ax.set_xscale('log')\n",
    "        ax.set_xlim(1e-10, 1)\n",
    "        ax.set_ylim(0, None)\n",
    "        ax.set_title(f\"Log-Scaled Gradient Histogram - Epoch {epoch + 1}\")\n",
    "        ax.set_xlabel(\"Gradient Magnitude (log scale)\")\n",
    "        ax.set_ylabel(\"Density\")\n",
    "        ax.legend()\n",
    "        ax.grid(True, which=\"both\", ls=\"--\", linewidth=0.5)\n",
    "\n",
    "    ani = FuncAnimation(fig, update, frames=num_epochs, repeat=False)\n",
    "    ani.save(save_path, writer='pillow', fps=1)\n",
    "    print(f\"Saved animation to {save_path}\")\n"
   ]
  },
  {
   "cell_type": "code",
   "execution_count": 12,
   "id": "c3e6b1f1",
   "metadata": {},
   "outputs": [
    {
     "name": "stdout",
     "output_type": "stream",
     "text": [
      "Saved animation to log_hist_gradients_vgg38.gif\n"
     ]
    },
    {
     "data": {
      "image/png": "[encoded data removed]",
      "text/plain": [
       "<Figure size 800x600 with 1 Axes>"
      ]
     },
     "metadata": {},
     "output_type": "display_data"
    }
   ],
   "source": [
    "create_log_hist_animation_matplotlib(epoch_gradients, layers, num_epochs=10, save_path='log_hist_gradients_vgg38.gif')"
   ]
  },
  {
   "cell_type": "markdown",
   "id": "8c98f428",
   "metadata": {},
   "source": [
    "![Histograms](log_hist_gradients_vgg19.gif)"
   ]
  },
  {
   "cell_type": "markdown",
   "id": "e9939508",
   "metadata": {},
   "source": [
    "**Observations**\n",
    "\n",
    "- The graph shows how the distribution of gradient magnitudes (on a log scale) evolves across epochs for each layer.\n",
    "- As we can see the for each of the considered layers, the gradient magnitude lies between 1e-3 to 1, which is still on the higher side and the gradients haven't vanished.\n",
    "- This could be happening because VGG19 has 19 layers and it is still not deep enough for any of the layers to vanish just yet (keeping in mind that the above network was only trained for 10 epochs).\n",
    "- To further extend our experiment lets increase the number of layers in VGG19 and see if this behavior stays put."
   ]
  }
 ],
 "metadata": {
  "kernelspec": {
   "display_name": ".venv",
   "language": "python",
   "name": "python3"
  },
  "language_info": {
   "codemirror_mode": {
    "name": "ipython",
    "version": 3
   },
   "file_extension": ".py",
   "mimetype": "text/x-python",
   "name": "python",
   "nbconvert_exporter": "python",
   "pygments_lexer": "ipython3",
   "version": "3.12.3"
  }
 },
 "nbformat": 4,
 "nbformat_minor": 5
}
