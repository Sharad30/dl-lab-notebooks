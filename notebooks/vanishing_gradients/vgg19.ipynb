{
 "cells": [
  {
   "cell_type": "markdown",
   "id": "ec79748b",
   "metadata": {},
   "source": [
    "# Gradient Vanishing Analysis in VGG19\n",
    "This notebook tracks and compares **average gradient norms per epoch** across multiple layers in VGG19 to observe potential vanishing gradients.\n",
    "\n",
    "### Layers tracked:\n",
    "- `features[0]`: Early convolutional layer\n",
    "- `features[10]`: Mid-level convolutional layer\n",
    "- `features[28]`: Deep convolutional layer\n",
    "- `classifier[0]`: First fully connected layer\n",
    "\n",
    "*Generated on: 2025-05-11*"
   ]
  },
  {
   "cell_type": "code",
   "execution_count": 1,
   "id": "ccfa432d",
   "metadata": {},
   "outputs": [],
   "source": [
    "import torch\n",
    "import torch.nn as nn\n",
    "import torchvision.models as models\n",
    "import torchvision.transforms as transforms\n",
    "import torchvision.datasets as datasets\n",
    "from torch.utils.data import DataLoader\n",
    "import matplotlib.pyplot as plt\n",
    "import numpy as np\n",
    "import os\n",
    "from tqdm import tqdm\n",
    "\n",
    "\n",
    "device = torch.device('cuda' if torch.cuda.is_available() else 'cpu')"
   ]
  },
  {
   "cell_type": "code",
   "execution_count": 2,
   "id": "bdc3d6b4",
   "metadata": {},
   "outputs": [
    {
     "name": "stderr",
     "output_type": "stream",
     "text": [
      "/workspace/projects/dl-lab-notebooks/.venv/lib/python3.12/site-packages/torchvision/models/_utils.py:208: UserWarning: The parameter 'pretrained' is deprecated since 0.13 and may be removed in the future, please use 'weights' instead.\n",
      "  warnings.warn(\n",
      "/workspace/projects/dl-lab-notebooks/.venv/lib/python3.12/site-packages/torchvision/models/_utils.py:223: UserWarning: Arguments other than a weight enum or `None` for 'weights' are deprecated since 0.13 and may be removed in the future. The current behavior is equivalent to passing `weights=VGG19_Weights.IMAGENET1K_V1`. You can also use `weights=VGG19_Weights.DEFAULT` to get the most up-to-date weights.\n",
      "  warnings.warn(msg)\n"
     ]
    }
   ],
   "source": [
    "# Load pretrained VGG19 and modify classifier\n",
    "vgg19 = models.vgg19(pretrained=True)\n",
    "vgg19.classifier[6] = nn.Linear(4096, 10)\n",
    "\n",
    "for module in vgg19.modules():\n",
    "    if isinstance(module, nn.ReLU):\n",
    "        module.inplace = False\n",
    "        \n",
    "vgg19 = vgg19.to(device)"
   ]
  },
  {
   "cell_type": "code",
   "execution_count": 3,
   "id": "1f1d82aa",
   "metadata": {},
   "outputs": [
    {
     "name": "stdout",
     "output_type": "stream",
     "text": [
      "Trainable parameters: 139,611,210\n"
     ]
    }
   ],
   "source": [
    "trainable_params = sum(p.numel() for p in vgg19.parameters() if p.requires_grad)\n",
    "print(f\"Trainable parameters: {trainable_params:,}\")"
   ]
  },
  {
   "cell_type": "code",
   "execution_count": 4,
   "id": "8671dff9",
   "metadata": {},
   "outputs": [],
   "source": [
    "# Gradient storage\n",
    "epoch_gradients = {\n",
    "    'conv1': [], 'conv_mid': [], 'conv_deep': [], 'fc1': []\n",
    "}\n",
    "batch_grads = {'conv1': [], 'conv_mid': [], 'conv_deep': [], 'fc1': []}\n",
    "\n",
    "# Hook function\n",
    "def register_hook(module, name):\n",
    "    def hook(module, grad_input, grad_output):\n",
    "        if grad_output[0] is not None:\n",
    "            batch_grads[name].append(grad_output[0].norm().item())\n",
    "    module.register_full_backward_hook(hook)\n",
    "\n",
    "# Register hooks\n",
    "register_hook(vgg19.features[0], 'conv1')\n",
    "register_hook(vgg19.features[10], 'conv_mid')\n",
    "register_hook(vgg19.features[28], 'conv_deep')\n",
    "register_hook(vgg19.classifier[0], 'fc1')"
   ]
  },
  {
   "cell_type": "code",
   "execution_count": 5,
   "id": "7a0c7572",
   "metadata": {},
   "outputs": [],
   "source": [
    "# CIFAR-10 loading\n",
    "transform = transforms.Compose([\n",
    "    transforms.Resize((224, 224)),\n",
    "    transforms.ToTensor()\n",
    "])\n",
    "train_dataset = datasets.CIFAR10(root='../data', train=True, transform=transform, download=True)\n",
    "train_loader = DataLoader(train_dataset, batch_size=32, shuffle=True)"
   ]
  },
  {
   "cell_type": "code",
   "execution_count": 6,
   "id": "80f1f713",
   "metadata": {},
   "outputs": [],
   "source": [
    "# Loss and optimizer\n",
    "criterion = nn.CrossEntropyLoss()\n",
    "optimizer = torch.optim.Adam(vgg19.parameters(), lr=1e-4)"
   ]
  },
  {
   "cell_type": "code",
   "execution_count": 7,
   "id": "b12d8346",
   "metadata": {},
   "outputs": [
    {
     "name": "stderr",
     "output_type": "stream",
     "text": [
      " 10%|█         | 1/10 [03:00<27:01, 180.22s/it]"
     ]
    },
    {
     "name": "stdout",
     "output_type": "stream",
     "text": [
      "Epoch 1 complete\n"
     ]
    },
    {
     "name": "stderr",
     "output_type": "stream",
     "text": [
      " 20%|██        | 2/10 [06:00<24:00, 180.08s/it]"
     ]
    },
    {
     "name": "stdout",
     "output_type": "stream",
     "text": [
      "Epoch 2 complete\n"
     ]
    },
    {
     "name": "stderr",
     "output_type": "stream",
     "text": [
      " 30%|███       | 3/10 [09:00<21:00, 180.04s/it]"
     ]
    },
    {
     "name": "stdout",
     "output_type": "stream",
     "text": [
      "Epoch 3 complete\n"
     ]
    },
    {
     "name": "stderr",
     "output_type": "stream",
     "text": [
      " 40%|████      | 4/10 [12:00<18:00, 180.04s/it]"
     ]
    },
    {
     "name": "stdout",
     "output_type": "stream",
     "text": [
      "Epoch 4 complete\n"
     ]
    },
    {
     "name": "stderr",
     "output_type": "stream",
     "text": [
      " 50%|█████     | 5/10 [15:00<15:00, 180.03s/it]"
     ]
    },
    {
     "name": "stdout",
     "output_type": "stream",
     "text": [
      "Epoch 5 complete\n"
     ]
    },
    {
     "name": "stderr",
     "output_type": "stream",
     "text": [
      " 60%|██████    | 6/10 [18:00<12:00, 180.02s/it]"
     ]
    },
    {
     "name": "stdout",
     "output_type": "stream",
     "text": [
      "Epoch 6 complete\n"
     ]
    },
    {
     "name": "stderr",
     "output_type": "stream",
     "text": [
      " 70%|███████   | 7/10 [21:00<09:00, 180.01s/it]"
     ]
    },
    {
     "name": "stdout",
     "output_type": "stream",
     "text": [
      "Epoch 7 complete\n"
     ]
    },
    {
     "name": "stderr",
     "output_type": "stream",
     "text": [
      " 80%|████████  | 8/10 [24:00<06:00, 180.01s/it]"
     ]
    },
    {
     "name": "stdout",
     "output_type": "stream",
     "text": [
      "Epoch 8 complete\n"
     ]
    },
    {
     "name": "stderr",
     "output_type": "stream",
     "text": [
      " 90%|█████████ | 9/10 [27:00<03:00, 180.01s/it]"
     ]
    },
    {
     "name": "stdout",
     "output_type": "stream",
     "text": [
      "Epoch 9 complete\n"
     ]
    },
    {
     "name": "stderr",
     "output_type": "stream",
     "text": [
      "100%|██████████| 10/10 [30:00<00:00, 180.01s/it]"
     ]
    },
    {
     "name": "stdout",
     "output_type": "stream",
     "text": [
      "Epoch 10 complete\n"
     ]
    },
    {
     "name": "stderr",
     "output_type": "stream",
     "text": [
      "\n"
     ]
    }
   ],
   "source": [
    "# Train for 10 epochs and log average gradient norms\n",
    "for epoch in tqdm(range(10)):\n",
    "    for images, labels in train_loader:\n",
    "        images, labels = images.to(device), labels.to(device)\n",
    "        optimizer.zero_grad()\n",
    "        outputs = vgg19(images)\n",
    "        loss = criterion(outputs, labels)\n",
    "        loss.backward()\n",
    "        optimizer.step()\n",
    "    \n",
    "    # For each layer, sample 20 values from collected gradients\n",
    "    for layer in batch_grads:\n",
    "        grads = batch_grads[layer]\n",
    "        if len(grads) >= 20:\n",
    "            sampled = np.random.choice(grads, 20, replace=False)\n",
    "        else:\n",
    "            sampled = np.pad(grads, (0, 20 - len(grads)), constant_values=0)\n",
    "        epoch_gradients[layer].append(sampled)\n",
    "        batch_grads[layer].clear()\n",
    "\n",
    "    print(f\"Epoch {epoch+1} complete\")"
   ]
  },
  {
   "cell_type": "code",
   "execution_count": 8,
   "id": "6ddc7444",
   "metadata": {},
   "outputs": [],
   "source": [
    "from scipy.stats import gaussian_kde\n",
    "from matplotlib.animation import FuncAnimation"
   ]
  },
  {
   "cell_type": "code",
   "execution_count": 10,
   "id": "e8ca0cb4",
   "metadata": {},
   "outputs": [],
   "source": [
    "\n",
    "layers = ['conv1', 'conv_mid', 'conv_deep', 'fc1']"
   ]
  },
  {
   "cell_type": "code",
   "execution_count": 9,
   "id": "861f1690",
   "metadata": {},
   "outputs": [],
   "source": [
    "# Step 2: Function to create and save KDE animation\n",
    "def create_kde_animation_matplotlib(epoch_gradients, layers, num_epochs=10, save_path='kde_gradients.gif'):\n",
    "    fig, ax = plt.subplots(figsize=(8, 6))\n",
    "\n",
    "    def update(epoch):\n",
    "        ax.clear()\n",
    "        x_grid = np.linspace(0, 2, 200)\n",
    "        for layer in layers:\n",
    "            data = epoch_gradients[layer][epoch]\n",
    "            if len(data) > 1 and np.isfinite(data).all():\n",
    "                kde = gaussian_kde(data, bw_method=0.3)\n",
    "                ax.plot(x_grid, kde(x_grid), label=layer)\n",
    "        ax.set_xlim(0, 2)\n",
    "        ax.set_ylim(0, 5)\n",
    "        ax.set_title(f\"Gradient Distributions - Epoch {epoch + 1}\")\n",
    "        ax.set_xlabel(\"Gradient Norm\")\n",
    "        ax.set_ylabel(\"Density\")\n",
    "        ax.legend()\n",
    "\n",
    "    ani = FuncAnimation(fig, update, frames=num_epochs, repeat=False)\n",
    "    ani.save(save_path, writer='pillow', fps=1)\n",
    "    print(f\"Saved animation to {save_path}\")"
   ]
  },
  {
   "cell_type": "code",
   "execution_count": 11,
   "id": "d5360e21",
   "metadata": {},
   "outputs": [
    {
     "name": "stdout",
     "output_type": "stream",
     "text": [
      "Saved animation to kde_gradients.gif\n"
     ]
    },
    {
     "data": {
      "image/png": "[encoded data removed]",
      "text/plain": [
       "<Figure size 800x600 with 1 Axes>"
      ]
     },
     "metadata": {},
     "output_type": "display_data"
    }
   ],
   "source": [
    "# Step 3: Run it\n",
    "create_kde_animation_matplotlib(epoch_gradients, layers, num_epochs=10, save_path='kde_gradients.gif')"
   ]
  },
  {
   "cell_type": "code",
   "execution_count": 12,
   "id": "1eba3018",
   "metadata": {},
   "outputs": [
    {
     "data": {
      "text/plain": [
       "{'conv1': [array([0.27878493, 0.2676782 , 0.12450445, 0.29773271, 0.20403068,\n",
       "         0.2048483 , 0.48700455, 0.04460448, 0.26461369, 0.20311555,\n",
       "         0.27233508, 0.40629709, 0.36117208, 0.3838183 , 0.39190948,\n",
       "         0.26769021, 0.29570401, 0.24538952, 0.35091469, 0.2128716 ]),\n",
       "  array([0.24730101, 0.24770799, 0.54275626, 0.31311801, 0.38023692,\n",
       "         0.3569932 , 0.17440993, 0.19272651, 0.49187654, 0.27078405,\n",
       "         0.38210672, 0.23758805, 0.30264065, 0.37699455, 0.33523187,\n",
       "         0.20699249, 0.19508155, 0.28108886, 0.41810516, 0.37253705]),\n",
       "  array([0.21110839, 0.17898892, 0.30954248, 0.34030434, 0.33881015,\n",
       "         0.29578635, 0.4016391 , 0.5890342 , 0.22399746, 0.29241395,\n",
       "         0.28846669, 0.18034686, 0.30957726, 0.40514803, 0.28393647,\n",
       "         0.29677463, 0.40938863, 0.21943966, 0.29670471, 0.47515738]),\n",
       "  array([0.52295232, 0.29313681, 0.39118522, 0.07614412, 0.4349305 ,\n",
       "         0.39473772, 0.34931242, 0.16256073, 0.32164982, 0.16169806,\n",
       "         0.30786976, 0.25257313, 0.53471553, 0.31896579, 0.33507586,\n",
       "         0.24868898, 0.18605502, 0.27913052, 0.41597661, 0.44664681]),\n",
       "  array([0.2593416 , 0.42771295, 0.37035462, 0.19251497, 0.37062991,\n",
       "         0.2908572 , 0.4135094 , 0.33221677, 0.37912208, 0.1861112 ,\n",
       "         0.23258185, 0.14873326, 0.45645794, 0.32005885, 0.40067199,\n",
       "         0.11605673, 0.36861715, 0.43577126, 0.60519701, 0.8395915 ]),\n",
       "  array([0.3613047 , 0.31241515, 0.23162302, 0.40313148, 0.13665843,\n",
       "         0.36551774, 0.17150493, 0.34446439, 0.53721136, 0.27249986,\n",
       "         0.22733817, 0.43412399, 0.37891605, 0.19544742, 0.26792499,\n",
       "         0.37545863, 0.08754289, 0.2220237 , 0.49274805, 0.0991314 ]),\n",
       "  array([0.03737023, 0.15199247, 0.01974541, 0.14875346, 0.16424336,\n",
       "         0.319011  , 0.20152113, 0.08624961, 0.01997166, 0.43542549,\n",
       "         0.21102931, 0.15073527, 0.53791362, 0.24147713, 0.27189258,\n",
       "         0.36877403, 0.38194928, 0.00829638, 0.36460951, 0.0619918 ]),\n",
       "  array([3.88869077e-01, 1.06631983e-02, 2.05393694e-02, 1.94943859e-04,\n",
       "         3.05912584e-01, 1.50662169e-01, 9.81641468e-03, 5.75722873e-01,\n",
       "         4.99233395e-01, 1.87676385e-01, 1.92674220e-01, 2.59886477e-02,\n",
       "         2.58481890e-01, 3.17743607e-02, 3.90971720e-01, 3.41994554e-01,\n",
       "         3.88098478e-01, 2.12390572e-01, 3.76672089e-01, 7.37722069e-02]),\n",
       "  array([0.28884676, 0.06037561, 0.20909353, 0.01967285, 0.30327591,\n",
       "         0.47723469, 0.18942684, 0.09425328, 0.31559366, 0.07699887,\n",
       "         0.07631474, 0.54130971, 0.01422503, 0.37248844, 0.51343995,\n",
       "         0.20946968, 0.03104526, 0.59858614, 0.53649503, 0.37756303]),\n",
       "  array([7.66064942e-01, 8.34283590e-01, 2.92051099e-02, 2.31142327e-01,\n",
       "         3.99451047e-01, 3.79105359e-01, 2.60953844e-01, 1.67882554e-02,\n",
       "         4.43289965e-01, 5.29136539e-01, 3.01312476e-01, 1.23062745e-01,\n",
       "         9.45967063e-02, 5.27413737e-04, 2.18502343e-01, 9.69309080e-03,\n",
       "         6.56594709e-02, 4.80265290e-01, 3.59042734e-01, 1.86938494e-01])],\n",
       " 'conv_mid': [array([0.04390903, 0.03618846, 0.04408028, 0.04711926, 0.04751006,\n",
       "         0.03869813, 0.0296814 , 0.01455197, 0.0251276 , 0.0301364 ,\n",
       "         0.04090173, 0.03614813, 0.02939342, 0.03228784, 0.0353487 ,\n",
       "         0.03529264, 0.03307036, 0.05935422, 0.02918299, 0.03280463]),\n",
       "  array([0.02107925, 0.05177008, 0.06741727, 0.03868527, 0.03771652,\n",
       "         0.04609261, 0.03786262, 0.03173142, 0.04879269, 0.05859302,\n",
       "         0.07733332, 0.04250132, 0.03133426, 0.05229841, 0.03455126,\n",
       "         0.03630907, 0.03449139, 0.04488652, 0.09131033, 0.0532616 ]),\n",
       "  array([0.02877458, 0.03328253, 0.03142707, 0.02713836, 0.03607007,\n",
       "         0.02479746, 0.05281853, 0.05268672, 0.03820067, 0.08230831,\n",
       "         0.04811182, 0.05392554, 0.03709804, 0.07078406, 0.0410355 ,\n",
       "         0.06345103, 0.06273638, 0.05923086, 0.03362533, 0.05107964]),\n",
       "  array([0.06464659, 0.05451328, 0.06451016, 0.04251205, 0.03518876,\n",
       "         0.06899378, 0.00725877, 0.0343071 , 0.04703028, 0.02880101,\n",
       "         0.02145058, 0.04187926, 0.05943695, 0.03327279, 0.00761298,\n",
       "         0.03915129, 0.0702353 , 0.02365769, 0.05303647, 0.05388679]),\n",
       "  array([0.00995498, 0.02880855, 0.04238058, 0.02903778, 0.02220961,\n",
       "         0.07533988, 0.06235182, 0.0328728 , 0.01042365, 0.05559723,\n",
       "         0.03924014, 0.04137414, 0.06147367, 0.05681039, 0.06921796,\n",
       "         0.02930129, 0.05105906, 0.05760004, 0.04929953, 0.11513103]),\n",
       "  array([0.02179229, 0.07798532, 0.01277953, 0.0268831 , 0.11741789,\n",
       "         0.02650825, 0.00875806, 0.02783352, 0.0652215 , 0.09274206,\n",
       "         0.04001156, 0.03055532, 0.04921112, 0.04286921, 0.09874032,\n",
       "         0.03403862, 0.02675019, 0.05688165, 0.04629745, 0.09295863]),\n",
       "  array([0.03881815, 0.05880273, 0.08356005, 0.01697324, 0.02487597,\n",
       "         0.00689405, 0.02976973, 0.03180793, 0.0508345 , 0.0735838 ,\n",
       "         0.03188701, 0.00555978, 0.06102594, 0.08146406, 0.07453684,\n",
       "         0.0546789 , 0.06325413, 0.02878302, 0.03682684, 0.04200693]),\n",
       "  array([0.05246675, 0.02830947, 0.00068907, 0.00977398, 0.0213751 ,\n",
       "         0.03486342, 0.01811208, 0.02729964, 0.05056685, 0.033893  ,\n",
       "         0.00798374, 0.00382888, 0.02938545, 0.02164446, 0.08487247,\n",
       "         0.03973282, 0.07798517, 0.04036743, 0.0792772 , 0.05583519]),\n",
       "  array([0.0207301 , 0.03128182, 0.08477501, 0.0567151 , 0.00243482,\n",
       "         0.0416609 , 0.04641841, 0.05288335, 0.00323492, 0.03653123,\n",
       "         0.05672391, 0.04706526, 0.06825969, 0.01584924, 0.03543492,\n",
       "         0.00588836, 0.04879136, 0.01571786, 0.0614077 , 0.0824974 ]),\n",
       "  array([0.01418491, 0.09086795, 0.08714959, 0.05811656, 0.00109623,\n",
       "         0.08010181, 0.04258943, 0.00111567, 0.00484241, 0.10076256,\n",
       "         0.07102519, 0.01105223, 0.0083534 , 0.00985125, 0.10309806,\n",
       "         0.07638471, 0.02890455, 0.04657502, 0.07729749, 0.07569197])],\n",
       " 'conv_deep': [array([0.02547173, 0.04545693, 0.03697401, 0.03614527, 0.03887984,\n",
       "         0.02431733, 0.04450754, 0.04102651, 0.04322999, 0.03807614,\n",
       "         0.02465177, 0.04430659, 0.0278327 , 0.03276812, 0.02696016,\n",
       "         0.03653564, 0.02617733, 0.02701899, 0.01973992, 0.00834722]),\n",
       "  array([0.05679967, 0.06341664, 0.0360566 , 0.03664306, 0.049882  ,\n",
       "         0.04371804, 0.05554493, 0.03588713, 0.02486643, 0.04124233,\n",
       "         0.03873665, 0.04875983, 0.05039916, 0.07869268, 0.05440004,\n",
       "         0.0388567 , 0.04798121, 0.02653924, 0.052966  , 0.06136922]),\n",
       "  array([0.0667238 , 0.04208571, 0.04322182, 0.09690374, 0.05917493,\n",
       "         0.02863562, 0.04219452, 0.0224048 , 0.02431327, 0.01521564,\n",
       "         0.07813404, 0.0620736 , 0.0422064 , 0.07419357, 0.064307  ,\n",
       "         0.03095725, 0.04177057, 0.04734761, 0.01941201, 0.03854549]),\n",
       "  array([0.06265014, 0.06595853, 0.05762853, 0.03700068, 0.07537116,\n",
       "         0.0550864 , 0.02141636, 0.07942037, 0.07942072, 0.01692665,\n",
       "         0.06899931, 0.07263681, 0.02669657, 0.01654955, 0.04458499,\n",
       "         0.04170101, 0.0283215 , 0.04163465, 0.10420491, 0.08032744]),\n",
       "  array([0.05907604, 0.0894177 , 0.05075166, 0.02955794, 0.00597347,\n",
       "         0.09820274, 0.0362137 , 0.08625396, 0.0426357 , 0.11331666,\n",
       "         0.05103175, 0.07598844, 0.06071808, 0.05021306, 0.09399254,\n",
       "         0.06130837, 0.0758369 , 0.14004867, 0.02658463, 0.03324112]),\n",
       "  array([0.05055736, 0.12004782, 0.11128733, 0.04470713, 0.03617441,\n",
       "         0.0499311 , 0.04217812, 0.08383989, 0.09542857, 0.03861973,\n",
       "         0.02833781, 0.04345319, 0.01859615, 0.1273156 , 0.02659262,\n",
       "         0.07045393, 0.04458044, 0.04980794, 0.09310159, 0.0035599 ]),\n",
       "  array([0.00776585, 0.05109048, 0.08218422, 0.00256897, 0.08751129,\n",
       "         0.02341744, 0.01936099, 0.10548613, 0.08310835, 0.0433732 ,\n",
       "         0.08674956, 0.0530242 , 0.02947059, 0.12646227, 0.01972976,\n",
       "         0.05442678, 0.0890402 , 0.0999084 , 0.00747271, 0.01865382]),\n",
       "  array([0.07605767, 0.06442367, 0.09274358, 0.13012564, 0.12983981,\n",
       "         0.04117414, 0.03979835, 0.0517489 , 0.06327359, 0.03370019,\n",
       "         0.12777478, 0.05195315, 0.04899926, 0.08567341, 0.01830701,\n",
       "         0.09209166, 0.13348463, 0.10884787, 0.09965043, 0.0133308 ]),\n",
       "  array([0.08857471, 0.05349509, 0.00492354, 0.03346048, 0.0476992 ,\n",
       "         0.07691026, 0.09595015, 0.07175901, 0.03093846, 0.10335081,\n",
       "         0.09429896, 0.08166762, 0.03138163, 0.10562478, 0.05335588,\n",
       "         0.00566381, 0.00163819, 0.00899041, 0.00740924, 0.00753097]),\n",
       "  array([0.03625338, 0.07012976, 0.00896329, 0.0224585 , 0.03750483,\n",
       "         0.01774056, 0.09102052, 0.09478134, 0.07172569, 0.11745134,\n",
       "         0.0013649 , 0.00743644, 0.09600811, 0.01922891, 0.03153787,\n",
       "         0.06664756, 0.09856754, 0.12546556, 0.00775292, 0.00814215])],\n",
       " 'fc1': [array([0.03684422, 0.02905145, 0.03560297, 0.02283281, 0.04221354,\n",
       "         0.04134193, 0.03625845, 0.03404735, 0.04889939, 0.04275759,\n",
       "         0.03412885, 0.03038739, 0.04400722, 0.03925823, 0.04047643,\n",
       "         0.03832711, 0.04777791, 0.0390519 , 0.04141882, 0.03167213]),\n",
       "  array([0.05709301, 0.04368772, 0.06153638, 0.03566592, 0.04764686,\n",
       "         0.03205939, 0.02963809, 0.0311921 , 0.04991814, 0.02189712,\n",
       "         0.01898065, 0.02448419, 0.03722609, 0.03835972, 0.04684121,\n",
       "         0.04296809, 0.04132237, 0.05206242, 0.04473354, 0.04252413]),\n",
       "  array([0.0362443 , 0.03542807, 0.06203825, 0.04294881, 0.05329652,\n",
       "         0.04162651, 0.04148625, 0.02279479, 0.06466494, 0.0425113 ,\n",
       "         0.0433119 , 0.09257139, 0.0451513 , 0.03991195, 0.03592583,\n",
       "         0.03792091, 0.05123335, 0.0305205 , 0.05234627, 0.02417174]),\n",
       "  array([0.04079483, 0.04002168, 0.05931679, 0.04237629, 0.05167048,\n",
       "         0.06174894, 0.06925593, 0.05259509, 0.01315762, 0.03859729,\n",
       "         0.03757318, 0.04394764, 0.06198159, 0.05491164, 0.03143444,\n",
       "         0.04237146, 0.06142545, 0.01962693, 0.03993225, 0.02683998]),\n",
       "  array([0.02037086, 0.02551641, 0.02179871, 0.05113215, 0.03991461,\n",
       "         0.06531852, 0.04375077, 0.08056547, 0.05060563, 0.06649906,\n",
       "         0.07209349, 0.1204595 , 0.02163425, 0.02155172, 0.03466722,\n",
       "         0.03022761, 0.06568524, 0.04704244, 0.01738798, 0.06671702]),\n",
       "  array([0.04745273, 0.03538661, 0.00426183, 0.09839864, 0.04052557,\n",
       "         0.00362394, 0.06669511, 0.01035559, 0.07131701, 0.02994715,\n",
       "         0.09663142, 0.05569706, 0.02205734, 0.0730098 , 0.0276108 ,\n",
       "         0.00489753, 0.05159096, 0.05024985, 0.03415033, 0.01008283]),\n",
       "  array([0.08823437, 0.03395594, 0.00370491, 0.00516376, 0.02706627,\n",
       "         0.05171004, 0.00220447, 0.03053372, 0.02227584, 0.038492  ,\n",
       "         0.07125072, 0.03600952, 0.05843054, 0.03789664, 0.06254514,\n",
       "         0.01447287, 0.12111996, 0.04560817, 0.06011576, 0.02899166]),\n",
       "  array([0.03161288, 0.01531607, 0.01039525, 0.05796902, 0.09850746,\n",
       "         0.09254569, 0.06291667, 0.03283475, 0.00257695, 0.11207111,\n",
       "         0.04929845, 0.10014738, 0.02342459, 0.05455733, 0.06562952,\n",
       "         0.05781946, 0.07590604, 0.04235584, 0.06218812, 0.00706173]),\n",
       "  array([0.06829311, 0.04751825, 0.026844  , 0.08688997, 0.00983572,\n",
       "         0.01359222, 0.01083062, 0.02978025, 0.05031154, 0.04262697,\n",
       "         0.10038234, 0.05117252, 0.00102874, 0.00512717, 0.03831504,\n",
       "         0.070717  , 0.07034933, 0.07332449, 0.03759686, 0.09059072]),\n",
       "  array([1.99284032e-02, 7.70051926e-02, 3.46032754e-02, 1.26986159e-02,\n",
       "         7.88579285e-02, 1.03976345e-04, 5.78363717e-04, 1.24829868e-02,\n",
       "         1.82682350e-02, 6.96915686e-02, 4.54578474e-02, 4.98394109e-02,\n",
       "         1.20339595e-01, 2.54459344e-02, 7.73698241e-02, 3.62748578e-02,\n",
       "         2.23882627e-02, 3.76491770e-02, 3.37250866e-02, 5.25956266e-02])]}"
      ]
     },
     "execution_count": 12,
     "metadata": {},
     "output_type": "execute_result"
    }
   ],
   "source": [
    "epoch_gradients"
   ]
  },
  {
   "cell_type": "code",
   "execution_count": null,
   "id": "8c98f428",
   "metadata": {},
   "outputs": [],
   "source": []
  }
 ],
 "metadata": {
  "kernelspec": {
   "display_name": ".venv",
   "language": "python",
   "name": "python3"
  },
  "language_info": {
   "codemirror_mode": {
    "name": "ipython",
    "version": 3
   },
   "file_extension": ".py",
   "mimetype": "text/x-python",
   "name": "python",
   "nbconvert_exporter": "python",
   "pygments_lexer": "ipython3",
   "version": "3.12.3"
  }
 },
 "nbformat": 4,
 "nbformat_minor": 5
}
