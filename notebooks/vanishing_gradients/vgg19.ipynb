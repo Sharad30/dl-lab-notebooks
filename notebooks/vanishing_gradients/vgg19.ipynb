{
 "cells": [
  {
   "cell_type": "markdown",
   "id": "ec79748b",
   "metadata": {},
   "source": [
    "# Gradient Vanishing Analysis in VGG19\n",
    "This notebook tracks and compares **average gradient norms per epoch** across multiple layers in VGG19 to observe potential vanishing gradients.\n",
    "\n",
    "### Layers tracked:\n",
    "- `features[0]`: Early convolutional layer\n",
    "- `features[10]`: Mid-level convolutional layer\n",
    "- `features[28]`: Deep convolutional layer\n",
    "- `classifier[0]`: First fully connected layer\n",
    "\n",
    "*Generated on: 2025-05-11*"
   ]
  },
  {
   "cell_type": "code",
   "execution_count": 1,
   "id": "ccfa432d",
   "metadata": {},
   "outputs": [],
   "source": [
    "import torch\n",
    "import torch.nn as nn\n",
    "import torchvision.models as models\n",
    "import torchvision.transforms as transforms\n",
    "import torchvision.datasets as datasets\n",
    "from torch.utils.data import DataLoader\n",
    "import matplotlib.pyplot as plt\n",
    "import numpy as np\n",
    "import os\n",
    "from tqdm import tqdm\n",
    "\n",
    "device = torch.device('cuda' if torch.cuda.is_available() else 'cpu')"
   ]
  },
  {
   "cell_type": "code",
   "execution_count": 2,
   "id": "bdc3d6b4",
   "metadata": {},
   "outputs": [
    {
     "name": "stderr",
     "output_type": "stream",
     "text": [
      "/workspace/projects/dl-lab-notebooks/.venv/lib/python3.12/site-packages/torchvision/models/_utils.py:208: UserWarning: The parameter 'pretrained' is deprecated since 0.13 and may be removed in the future, please use 'weights' instead.\n",
      "  warnings.warn(\n",
      "/workspace/projects/dl-lab-notebooks/.venv/lib/python3.12/site-packages/torchvision/models/_utils.py:223: UserWarning: Arguments other than a weight enum or `None` for 'weights' are deprecated since 0.13 and may be removed in the future. The current behavior is equivalent to passing `weights=VGG19_Weights.IMAGENET1K_V1`. You can also use `weights=VGG19_Weights.DEFAULT` to get the most up-to-date weights.\n",
      "  warnings.warn(msg)\n"
     ]
    }
   ],
   "source": [
    "# Load pretrained VGG19 and modify classifier\n",
    "vgg19 = models.vgg19(pretrained=True)\n",
    "vgg19.classifier[6] = nn.Linear(4096, 10)\n",
    "\n",
    "for module in vgg19.modules():\n",
    "    if isinstance(module, nn.ReLU):\n",
    "        module.inplace = False\n",
    "        \n",
    "vgg19 = vgg19.to(device)"
   ]
  },
  {
   "cell_type": "code",
   "execution_count": 3,
   "id": "1f1d82aa",
   "metadata": {},
   "outputs": [
    {
     "name": "stdout",
     "output_type": "stream",
     "text": [
      "Trainable parameters: 139,611,210\n"
     ]
    }
   ],
   "source": [
    "trainable_params = sum(p.numel() for p in vgg19.parameters() if p.requires_grad)\n",
    "print(f\"Trainable parameters: {trainable_params:,}\")"
   ]
  },
  {
   "cell_type": "code",
   "execution_count": 4,
   "id": "8671dff9",
   "metadata": {},
   "outputs": [],
   "source": [
    "# Gradient storage\n",
    "epoch_gradients = {\n",
    "    'conv1': [], 'conv_mid': [], 'conv_deep': [], 'fc1': []\n",
    "}\n",
    "batch_grads = {'conv1': [], 'conv_mid': [], 'conv_deep': [], 'fc1': []}\n",
    "\n",
    "# Hook function\n",
    "def register_hook(module, name):\n",
    "    def hook(module, grad_input, grad_output):\n",
    "        if grad_output[0] is not None:\n",
    "            batch_grads[name].append(grad_output[0].norm().item())\n",
    "    module.register_full_backward_hook(hook)\n",
    "\n",
    "# Register hooks\n",
    "register_hook(vgg19.features[0], 'conv1')\n",
    "register_hook(vgg19.features[10], 'conv_mid')\n",
    "register_hook(vgg19.features[28], 'conv_deep')\n",
    "register_hook(vgg19.classifier[0], 'fc1')"
   ]
  },
  {
   "cell_type": "code",
   "execution_count": 5,
   "id": "7a0c7572",
   "metadata": {},
   "outputs": [],
   "source": [
    "# CIFAR-10 loading\n",
    "transform = transforms.Compose([\n",
    "    transforms.Resize((224, 224)),\n",
    "    transforms.ToTensor()\n",
    "])\n",
    "train_dataset = datasets.CIFAR10(root='../data', train=True, transform=transform, download=True)\n",
    "train_loader = DataLoader(train_dataset, batch_size=32, shuffle=True)"
   ]
  },
  {
   "cell_type": "code",
   "execution_count": 6,
   "id": "80f1f713",
   "metadata": {},
   "outputs": [],
   "source": [
    "# Loss and optimizer\n",
    "criterion = nn.CrossEntropyLoss()\n",
    "optimizer = torch.optim.Adam(vgg19.parameters(), lr=1e-4)"
   ]
  },
  {
   "cell_type": "code",
   "execution_count": 7,
   "id": "b12d8346",
   "metadata": {},
   "outputs": [
    {
     "name": "stderr",
     "output_type": "stream",
     "text": [
      " 10%|█         | 1/10 [03:34<32:14, 214.98s/it]"
     ]
    },
    {
     "name": "stdout",
     "output_type": "stream",
     "text": [
      "Epoch 1 complete\n"
     ]
    },
    {
     "name": "stderr",
     "output_type": "stream",
     "text": [
      " 20%|██        | 2/10 [07:08<28:31, 213.91s/it]"
     ]
    },
    {
     "name": "stdout",
     "output_type": "stream",
     "text": [
      "Epoch 2 complete\n"
     ]
    },
    {
     "name": "stderr",
     "output_type": "stream",
     "text": [
      " 30%|███       | 3/10 [10:41<24:54, 213.53s/it]"
     ]
    },
    {
     "name": "stdout",
     "output_type": "stream",
     "text": [
      "Epoch 3 complete\n"
     ]
    },
    {
     "name": "stderr",
     "output_type": "stream",
     "text": [
      " 40%|████      | 4/10 [14:15<21:22, 213.69s/it]"
     ]
    },
    {
     "name": "stdout",
     "output_type": "stream",
     "text": [
      "Epoch 4 complete\n"
     ]
    },
    {
     "name": "stderr",
     "output_type": "stream",
     "text": [
      " 50%|█████     | 5/10 [17:48<17:48, 213.64s/it]"
     ]
    },
    {
     "name": "stdout",
     "output_type": "stream",
     "text": [
      "Epoch 5 complete\n"
     ]
    },
    {
     "name": "stderr",
     "output_type": "stream",
     "text": [
      " 60%|██████    | 6/10 [21:22<14:14, 213.71s/it]"
     ]
    },
    {
     "name": "stdout",
     "output_type": "stream",
     "text": [
      "Epoch 6 complete\n"
     ]
    },
    {
     "name": "stderr",
     "output_type": "stream",
     "text": [
      " 70%|███████   | 7/10 [24:57<10:42, 214.15s/it]"
     ]
    },
    {
     "name": "stdout",
     "output_type": "stream",
     "text": [
      "Epoch 7 complete\n"
     ]
    },
    {
     "name": "stderr",
     "output_type": "stream",
     "text": [
      " 80%|████████  | 8/10 [28:31<07:08, 214.04s/it]"
     ]
    },
    {
     "name": "stdout",
     "output_type": "stream",
     "text": [
      "Epoch 8 complete\n"
     ]
    },
    {
     "name": "stderr",
     "output_type": "stream",
     "text": [
      " 90%|█████████ | 9/10 [32:04<03:33, 213.86s/it]"
     ]
    },
    {
     "name": "stdout",
     "output_type": "stream",
     "text": [
      "Epoch 9 complete\n"
     ]
    },
    {
     "name": "stderr",
     "output_type": "stream",
     "text": [
      "100%|██████████| 10/10 [35:38<00:00, 213.83s/it]"
     ]
    },
    {
     "name": "stdout",
     "output_type": "stream",
     "text": [
      "Epoch 10 complete\n"
     ]
    },
    {
     "name": "stderr",
     "output_type": "stream",
     "text": [
      "\n"
     ]
    }
   ],
   "source": [
    "# Train for 10 epochs and log average gradient norms\n",
    "for epoch in tqdm(range(10)):\n",
    "    for images, labels in train_loader:\n",
    "        images, labels = images.to(device), labels.to(device)\n",
    "        optimizer.zero_grad()\n",
    "        outputs = vgg19(images)\n",
    "        loss = criterion(outputs, labels)\n",
    "        loss.backward()\n",
    "        optimizer.step()\n",
    "    # Store average gradient per layer for this epoch\n",
    "    for layer in batch_grads:\n",
    "        avg_grad = np.mean(batch_grads[layer]) if batch_grads[layer] else 0\n",
    "        epoch_gradients[layer].append(avg_grad)\n",
    "        batch_grads[layer].clear()\n",
    "    print(f\"Epoch {epoch+1} complete\")"
   ]
  },
  {
   "cell_type": "code",
   "execution_count": 8,
   "id": "861f1690",
   "metadata": {},
   "outputs": [
    {
     "data": {
      "image/png": "[encoded data removed]",
      "text/plain": [
       "<Figure size 1000x600 with 1 Axes>"
      ]
     },
     "metadata": {},
     "output_type": "display_data"
    }
   ],
   "source": [
    "# Plot average gradient norms per epoch for each layer\n",
    "plt.figure(figsize=(10, 6))\n",
    "for layer, grads in epoch_gradients.items():\n",
    "    plt.plot(range(1, len(grads)+1), grads, label=layer, marker='o')\n",
    "plt.title(\"Average Gradient Norms Per Epoch (Log Scale)\")\n",
    "plt.xlabel(\"Epoch\")\n",
    "plt.ylabel(\"Average Gradient Norm\")\n",
    "plt.yscale(\"log\")\n",
    "plt.legend()\n",
    "plt.grid(True)\n",
    "plt.tight_layout()\n",
    "plt.show()"
   ]
  },
  {
   "cell_type": "code",
   "execution_count": null,
   "id": "d5360e21",
   "metadata": {},
   "outputs": [],
   "source": []
  }
 ],
 "metadata": {
  "language_info": {
   "name": "python"
  }
 },
 "nbformat": 4,
 "nbformat_minor": 5
}
