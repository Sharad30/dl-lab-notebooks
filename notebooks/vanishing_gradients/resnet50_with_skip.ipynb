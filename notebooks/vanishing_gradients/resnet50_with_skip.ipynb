{
 "cells": [
  {
   "cell_type": "markdown",
   "id": "97dfb4da",
   "metadata": {},
   "source": [
    "# Gradient Vanishing Analysis in RESNET50 with skip connections\n",
    "\n",
    "### Motivation\n",
    "\n",
    "After demonstrating `vanishing gradients` in `RESNET50 (without skip connections)` we will repeat the experiment by including the skip connections.\n",
    "\n",
    "### Approach\n",
    "\n",
    "Replicate the original `RESNET50` model including all the skip connections and train the model.\n",
    "\n",
    "#### Layers tracked:\n",
    "- `conv1`: Early convolutional layer\n",
    "- `layer1.0.conv1`: Mid-level convolutional layer\n",
    "- `layer2.0.conv2`: Mid-level convolutional layer\n",
    "- `layer3.5.conv3`: Deep convolutional layer\n",
    "- `fc`: First fully connected layer"
   ]
  },
  {
   "cell_type": "markdown",
   "id": "834fc8fe",
   "metadata": {},
   "source": [
    "**Import libraries**"
   ]
  },
  {
   "cell_type": "code",
   "execution_count": 1,
   "id": "dbf17d8c",
   "metadata": {},
   "outputs": [],
   "source": [
    "import torch\n",
    "import torch.nn as nn\n",
    "from torchvision import datasets, transforms\n",
    "from torch.utils.data import DataLoader\n",
    "import matplotlib.pyplot as plt\n",
    "from tqdm import tqdm\n",
    "import numpy as np\n",
    "from collections import defaultdict\n",
    "from scipy.stats import gaussian_kde\n",
    "from matplotlib.animation import FuncAnimation"
   ]
  },
  {
   "cell_type": "markdown",
   "id": "b76edb24",
   "metadata": {},
   "source": [
    "**Load RESNET50 model with skip connections**"
   ]
  },
  {
   "cell_type": "code",
   "execution_count": 2,
   "id": "50caa961",
   "metadata": {},
   "outputs": [],
   "source": [
    "class Bottleneck(nn.Module):\n",
    "    expansion = 4\n",
    "\n",
    "    def __init__(self, in_planes, planes, stride=1, skip=True):\n",
    "        super(Bottleneck, self).__init__()\n",
    "        self.skip = skip\n",
    "\n",
    "        self.conv1 = nn.Conv2d(in_planes, planes, kernel_size=1, bias=False)\n",
    "        self.bn1 = nn.BatchNorm2d(planes)\n",
    "\n",
    "        self.conv2 = nn.Conv2d(planes, planes, kernel_size=3, stride=stride, padding=1, bias=False)\n",
    "        self.bn2 = nn.BatchNorm2d(planes)\n",
    "\n",
    "        self.conv3 = nn.Conv2d(planes, self.expansion * planes, kernel_size=1, bias=False)\n",
    "        self.bn3 = nn.BatchNorm2d(self.expansion * planes)\n",
    "\n",
    "        self.relu = nn.ReLU(inplace=True)\n",
    "\n",
    "        self.downsample = None\n",
    "        if stride != 1 or in_planes != self.expansion * planes:\n",
    "            self.downsample = nn.Sequential(\n",
    "                nn.Conv2d(in_planes, self.expansion * planes, kernel_size=1, stride=stride, bias=False),\n",
    "                nn.BatchNorm2d(self.expansion * planes)\n",
    "            )\n",
    "\n",
    "    def forward(self, x):\n",
    "        identity = x\n",
    "\n",
    "        out = self.relu(self.bn1(self.conv1(x)))\n",
    "        out = self.relu(self.bn2(self.conv2(out)))\n",
    "        out = self.bn3(self.conv3(out))\n",
    "\n",
    "        if self.skip:\n",
    "            if self.downsample is not None:\n",
    "                identity = self.downsample(identity)\n",
    "            out = out + identity\n",
    "\n",
    "        return self.relu(out)\n",
    "\n",
    "\n",
    "class CustomResNet50(nn.Module):\n",
    "    def __init__(self, skip=True, num_classes=10):\n",
    "        super(CustomResNet50, self).__init__()\n",
    "        self.in_planes = 64\n",
    "\n",
    "        # Adjusted for CIFAR-10 (32x32): use kernel=3, stride=1, no aggressive downsampling\n",
    "        self.conv1 = nn.Conv2d(3, 64, kernel_size=3, stride=1, padding=1, bias=False)\n",
    "        self.bn1 = nn.BatchNorm2d(64)\n",
    "        self.relu = nn.ReLU(inplace=True)\n",
    "        self.maxpool = nn.Identity()  # Optional for CIFAR-10\n",
    "\n",
    "        self.layer1 = self._make_layer(64, 3, skip)\n",
    "        self.layer2 = self._make_layer(128, 4, skip, stride=2)\n",
    "        self.layer3 = self._make_layer(256, 6, skip, stride=2)\n",
    "        self.layer4 = self._make_layer(512, 3, skip, stride=2)\n",
    "\n",
    "        self.avgpool = nn.AdaptiveAvgPool2d((1, 1))\n",
    "        self.fc = nn.Linear(512 * Bottleneck.expansion, num_classes)\n",
    "\n",
    "    def _make_layer(self, planes, blocks, skip, stride=1):\n",
    "        layers = [Bottleneck(self.in_planes, planes, stride, skip)]\n",
    "        self.in_planes = planes * Bottleneck.expansion\n",
    "        for _ in range(1, blocks):\n",
    "            layers.append(Bottleneck(self.in_planes, planes, skip=skip))\n",
    "        return nn.Sequential(*layers)\n",
    "\n",
    "    def forward(self, x):\n",
    "        x = self.relu(self.bn1(self.conv1(x)))\n",
    "        x = self.maxpool(x)\n",
    "\n",
    "        x = self.layer1(x)\n",
    "        x = self.layer2(x)\n",
    "        x = self.layer3(x)\n",
    "        x = self.layer4(x)\n",
    "\n",
    "        x = self.avgpool(x)\n",
    "        x = torch.flatten(x, 1)\n",
    "        x = self.fc(x)\n",
    "\n",
    "        return x\n",
    "\n",
    "model = CustomResNet50(skip=True).cuda()"
   ]
  },
  {
   "cell_type": "markdown",
   "id": "6e267b5e",
   "metadata": {},
   "source": [
    "**Verify no. of trainable parameters**"
   ]
  },
  {
   "cell_type": "code",
   "execution_count": 3,
   "id": "98f514b4",
   "metadata": {},
   "outputs": [
    {
     "name": "stdout",
     "output_type": "stream",
     "text": [
      "Trainable parameters: 23,520,842\n"
     ]
    }
   ],
   "source": [
    "trainable_params = sum(p.numel() for p in model.parameters() if p.requires_grad)\n",
    "print(f\"Trainable parameters: {trainable_params:,}\")"
   ]
  },
  {
   "cell_type": "markdown",
   "id": "4b2bfc86",
   "metadata": {},
   "source": [
    "**Register backward hook to log gradients**"
   ]
  },
  {
   "cell_type": "code",
   "execution_count": 4,
   "id": "17b38fc6",
   "metadata": {},
   "outputs": [],
   "source": [
    "selected_layers = [\"conv1\", \"layer1.0.conv1\", \"layer2.0.conv2\", \"layer3.5.conv3\", \"fc\"]\n",
    "gradients = {}\n",
    "\n",
    "def register_hooks(model):\n",
    "    for name, module in model.named_modules():\n",
    "        if name in selected_layers and (isinstance(module, nn.Conv2d) or isinstance(module, nn.Linear)):\n",
    "            gradients[name] = []\n",
    "            def hook(module, grad_input, grad_output, name=name):\n",
    "                gradients[name].append(grad_output[0].norm().item())\n",
    "            module.register_full_backward_hook(hook)\n",
    "\n",
    "register_hooks(model)"
   ]
  },
  {
   "cell_type": "code",
   "execution_count": 5,
   "id": "2f78ca6c",
   "metadata": {},
   "outputs": [],
   "source": [
    "transform = transforms.Compose([\n",
    "    transforms.Resize((224, 224)),\n",
    "    transforms.ToTensor()\n",
    "])\n",
    "train_data = datasets.CIFAR10(root='../data', train=True, download=True, transform=transform)\n",
    "train_loader = DataLoader(train_data, batch_size=8, shuffle=True)\n",
    "\n",
    "epoch_gradients = defaultdict(list)"
   ]
  },
  {
   "cell_type": "markdown",
   "id": "2ba98969",
   "metadata": {},
   "source": [
    "**Define loss and optimizer**"
   ]
  },
  {
   "cell_type": "code",
   "execution_count": 6,
   "id": "3d906d90",
   "metadata": {},
   "outputs": [],
   "source": [
    "criterion = nn.CrossEntropyLoss()\n",
    "optimizer = torch.optim.Adam(model.parameters(), lr=0.001)"
   ]
  },
  {
   "cell_type": "markdown",
   "id": "793cc969",
   "metadata": {},
   "source": [
    "**Train the model**"
   ]
  },
  {
   "cell_type": "code",
   "execution_count": 7,
   "id": "0ce8e29e",
   "metadata": {},
   "outputs": [],
   "source": [
    "def train(model, epochs=1):\n",
    "    model.train()\n",
    "    for epoch in tqdm(range(epochs)):\n",
    "        # Temporary storage for one epoch\n",
    "        batch_grads = defaultdict(list)\n",
    "\n",
    "        for inputs, labels in train_loader:\n",
    "            inputs, labels = inputs.cuda(), labels.cuda()\n",
    "            optimizer.zero_grad()\n",
    "            outputs = model(inputs)\n",
    "            loss = criterion(outputs, labels)\n",
    "            loss.backward()\n",
    "            optimizer.step()\n",
    "        \n",
    "            # After backward, batch-level gradients are in global `gradients`\n",
    "            for layer in selected_layers:\n",
    "                if gradients[layer]:\n",
    "                    batch_grads[layer].extend(gradients[layer])\n",
    "                    gradients[layer].clear()  # Clear for next batch\n",
    "\n",
    "        # Sample 20 values (or pad with zeros if less) for this epoch\n",
    "        for layer in selected_layers:\n",
    "            layer_grads = batch_grads[layer]\n",
    "            if len(layer_grads) >= 20:\n",
    "                sampled = np.random.choice(layer_grads, 20, replace=False)\n",
    "            else:\n",
    "                sampled = np.pad(layer_grads, (0, 20 - len(layer_grads)), constant_values=0)\n",
    "            epoch_gradients[layer].append(sampled.tolist())\n",
    "\n",
    "        print(f\"Epoch {epoch+1} complete\")\n"
   ]
  },
  {
   "cell_type": "code",
   "execution_count": 8,
   "id": "086f6874",
   "metadata": {},
   "outputs": [
    {
     "name": "stderr",
     "output_type": "stream",
     "text": [
      " 10%|█         | 1/10 [18:54<2:50:08, 1134.23s/it]"
     ]
    },
    {
     "name": "stdout",
     "output_type": "stream",
     "text": [
      "Epoch 1 complete\n"
     ]
    },
    {
     "name": "stderr",
     "output_type": "stream",
     "text": [
      " 20%|██        | 2/10 [37:47<2:31:11, 1133.92s/it]"
     ]
    },
    {
     "name": "stdout",
     "output_type": "stream",
     "text": [
      "Epoch 2 complete\n"
     ]
    }
   ],
   "source": [
    "train(model, epochs=10)"
   ]
  },
  {
   "cell_type": "code",
   "execution_count": 12,
   "id": "886a4c4f",
   "metadata": {},
   "outputs": [],
   "source": [
    "\n",
    "layers = ['conv1', 'layer1.0.conv1', 'layer2.0.conv2', 'layer3.5.conv3', 'fc']"
   ]
  },
  {
   "cell_type": "code",
   "execution_count": 10,
   "id": "5c18e0f3",
   "metadata": {},
   "outputs": [],
   "source": [
    "def create_log_hist_animation_matplotlib(epoch_gradients, layers, num_epochs=10, save_path='log_hist_gradients.gif'):\n",
    "    fig, ax = plt.subplots(figsize=(8, 6))\n",
    "\n",
    "    # Log-spaced bins from 1e-10 to 1e0 (1)\n",
    "    log_bins = np.logspace(-10, 0, 50)\n",
    "\n",
    "    def update(epoch):\n",
    "        ax.clear()\n",
    "        for layer in layers:\n",
    "            data = epoch_gradients[layer][epoch]\n",
    "            if len(data) > 1 and np.isfinite(data).all():\n",
    "                log_data = np.abs(data) + 1e-10  # Avoid log(0)\n",
    "                hist, bins = np.histogram(log_data, bins=log_bins, density=True)\n",
    "                bin_centers = (bins[:-1] + bins[1:]) / 2\n",
    "                ax.plot(bin_centers, hist, label=layer)\n",
    "\n",
    "        ax.set_xscale('log')\n",
    "        ax.set_xlim(1e-10, 1)\n",
    "        ax.set_ylim(0, None)\n",
    "        ax.set_title(f\"Log-Scaled Gradient Histogram - Epoch {epoch + 1}\")\n",
    "        ax.set_xlabel(\"Gradient Magnitude (log scale)\")\n",
    "        ax.set_ylabel(\"Density\")\n",
    "        ax.legend()\n",
    "        ax.grid(True, which=\"both\", ls=\"--\", linewidth=0.5)\n",
    "\n",
    "    ani = FuncAnimation(fig, update, frames=num_epochs, repeat=False)\n",
    "    ani.save(save_path, writer='pillow', fps=1)\n",
    "    print(f\"Saved animation to {save_path}\")\n"
   ]
  },
  {
   "cell_type": "code",
   "execution_count": null,
   "id": "a5b6202c",
   "metadata": {},
   "outputs": [
    {
     "name": "stdout",
     "output_type": "stream",
     "text": [
      "Saved animation to log_hist_gradients.gif\n"
     ]
    },
    {
     "data": {
      "image/png": "[encoded data removed]",
      "text/plain": [
       "<Figure size 800x600 with 1 Axes>"
      ]
     },
     "metadata": {},
     "output_type": "display_data"
    }
   ],
   "source": [
    "# Step 3: Run it\n",
    "create_log_hist_animation_matplotlib(epoch_gradients, layers, num_epochs=10, save_path='log_hist_gradients_with_skip_fixed.gif')"
   ]
  },
  {
   "cell_type": "code",
   "execution_count": 8,
   "id": "8d815cce",
   "metadata": {},
   "outputs": [
    {
     "name": "stderr",
     "output_type": "stream",
     "text": [
      "  5%|▌         | 1/20 [01:09<21:56, 69.29s/it]"
     ]
    },
    {
     "name": "stdout",
     "output_type": "stream",
     "text": [
      "Epoch 1 complete\n"
     ]
    },
    {
     "name": "stderr",
     "output_type": "stream",
     "text": [
      " 10%|█         | 2/20 [02:18<20:45, 69.20s/it]"
     ]
    },
    {
     "name": "stdout",
     "output_type": "stream",
     "text": [
      "Epoch 2 complete\n"
     ]
    },
    {
     "name": "stderr",
     "output_type": "stream",
     "text": [
      " 15%|█▌        | 3/20 [03:27<19:36, 69.19s/it]"
     ]
    },
    {
     "name": "stdout",
     "output_type": "stream",
     "text": [
      "Epoch 3 complete\n"
     ]
    },
    {
     "name": "stderr",
     "output_type": "stream",
     "text": [
      " 20%|██        | 4/20 [04:37<18:29, 69.34s/it]"
     ]
    },
    {
     "name": "stdout",
     "output_type": "stream",
     "text": [
      "Epoch 4 complete\n"
     ]
    },
    {
     "name": "stderr",
     "output_type": "stream",
     "text": [
      " 25%|██▌       | 5/20 [05:46<17:19, 69.30s/it]"
     ]
    },
    {
     "name": "stdout",
     "output_type": "stream",
     "text": [
      "Epoch 5 complete\n"
     ]
    },
    {
     "name": "stderr",
     "output_type": "stream",
     "text": [
      " 30%|███       | 6/20 [06:55<16:09, 69.26s/it]"
     ]
    },
    {
     "name": "stdout",
     "output_type": "stream",
     "text": [
      "Epoch 6 complete\n"
     ]
    },
    {
     "name": "stderr",
     "output_type": "stream",
     "text": [
      " 35%|███▌      | 7/20 [08:05<15:01, 69.33s/it]"
     ]
    },
    {
     "name": "stdout",
     "output_type": "stream",
     "text": [
      "Epoch 7 complete\n"
     ]
    },
    {
     "name": "stderr",
     "output_type": "stream",
     "text": [
      " 40%|████      | 8/20 [09:14<13:51, 69.31s/it]"
     ]
    },
    {
     "name": "stdout",
     "output_type": "stream",
     "text": [
      "Epoch 8 complete\n"
     ]
    },
    {
     "name": "stderr",
     "output_type": "stream",
     "text": [
      " 45%|████▌     | 9/20 [10:23<12:43, 69.40s/it]"
     ]
    },
    {
     "name": "stdout",
     "output_type": "stream",
     "text": [
      "Epoch 9 complete\n"
     ]
    },
    {
     "name": "stderr",
     "output_type": "stream",
     "text": [
      " 50%|█████     | 10/20 [11:33<11:34, 69.46s/it]"
     ]
    },
    {
     "name": "stdout",
     "output_type": "stream",
     "text": [
      "Epoch 10 complete\n"
     ]
    },
    {
     "name": "stderr",
     "output_type": "stream",
     "text": [
      " 55%|█████▌    | 11/20 [12:42<10:24, 69.40s/it]"
     ]
    },
    {
     "name": "stdout",
     "output_type": "stream",
     "text": [
      "Epoch 11 complete\n"
     ]
    },
    {
     "name": "stderr",
     "output_type": "stream",
     "text": [
      " 60%|██████    | 12/20 [13:52<09:15, 69.43s/it]"
     ]
    },
    {
     "name": "stdout",
     "output_type": "stream",
     "text": [
      "Epoch 12 complete\n"
     ]
    },
    {
     "name": "stderr",
     "output_type": "stream",
     "text": [
      " 65%|██████▌   | 13/20 [15:01<08:06, 69.47s/it]"
     ]
    },
    {
     "name": "stdout",
     "output_type": "stream",
     "text": [
      "Epoch 13 complete\n"
     ]
    },
    {
     "name": "stderr",
     "output_type": "stream",
     "text": [
      " 70%|███████   | 14/20 [16:10<06:56, 69.37s/it]"
     ]
    },
    {
     "name": "stdout",
     "output_type": "stream",
     "text": [
      "Epoch 14 complete\n"
     ]
    },
    {
     "name": "stderr",
     "output_type": "stream",
     "text": [
      " 75%|███████▌  | 15/20 [17:20<05:46, 69.28s/it]"
     ]
    },
    {
     "name": "stdout",
     "output_type": "stream",
     "text": [
      "Epoch 15 complete\n"
     ]
    },
    {
     "name": "stderr",
     "output_type": "stream",
     "text": [
      " 80%|████████  | 16/20 [18:29<04:37, 69.26s/it]"
     ]
    },
    {
     "name": "stdout",
     "output_type": "stream",
     "text": [
      "Epoch 16 complete\n"
     ]
    },
    {
     "name": "stderr",
     "output_type": "stream",
     "text": [
      " 85%|████████▌ | 17/20 [19:38<03:27, 69.25s/it]"
     ]
    },
    {
     "name": "stdout",
     "output_type": "stream",
     "text": [
      "Epoch 17 complete\n"
     ]
    },
    {
     "name": "stderr",
     "output_type": "stream",
     "text": [
      " 90%|█████████ | 18/20 [20:47<02:18, 69.21s/it]"
     ]
    },
    {
     "name": "stdout",
     "output_type": "stream",
     "text": [
      "Epoch 18 complete\n"
     ]
    },
    {
     "name": "stderr",
     "output_type": "stream",
     "text": [
      " 95%|█████████▌| 19/20 [21:56<01:09, 69.25s/it]"
     ]
    },
    {
     "name": "stdout",
     "output_type": "stream",
     "text": [
      "Epoch 19 complete\n"
     ]
    },
    {
     "name": "stderr",
     "output_type": "stream",
     "text": [
      "100%|██████████| 20/20 [23:06<00:00, 69.33s/it]"
     ]
    },
    {
     "name": "stdout",
     "output_type": "stream",
     "text": [
      "Epoch 20 complete\n"
     ]
    },
    {
     "name": "stderr",
     "output_type": "stream",
     "text": [
      "\n"
     ]
    }
   ],
   "source": [
    "train(model, epochs=20)"
   ]
  },
  {
   "cell_type": "code",
   "execution_count": 13,
   "id": "a878f321",
   "metadata": {},
   "outputs": [
    {
     "name": "stdout",
     "output_type": "stream",
     "text": [
      "Saved animation to log_hist_gradients_with_skip_20_epochs.gif\n"
     ]
    },
    {
     "data": {
      "image/png": "[encoded data removed]",
      "text/plain": [
       "<Figure size 800x600 with 1 Axes>"
      ]
     },
     "metadata": {},
     "output_type": "display_data"
    }
   ],
   "source": [
    "create_log_hist_animation_matplotlib(epoch_gradients, layers, num_epochs=20, save_path='log_hist_gradients_with_skip_20_epochs.gif')"
   ]
  },
  {
   "cell_type": "code",
   "execution_count": null,
   "id": "51685fc2",
   "metadata": {},
   "outputs": [],
   "source": []
  }
 ],
 "metadata": {
  "kernelspec": {
   "display_name": ".venv",
   "language": "python",
   "name": "python3"
  },
  "language_info": {
   "codemirror_mode": {
    "name": "ipython",
    "version": 3
   },
   "file_extension": ".py",
   "mimetype": "text/x-python",
   "name": "python",
   "nbconvert_exporter": "python",
   "pygments_lexer": "ipython3",
   "version": "3.12.3"
  }
 },
 "nbformat": 4,
 "nbformat_minor": 5
}
